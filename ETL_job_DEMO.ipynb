{
 "cells": [
  {
   "cell_type": "markdown",
   "id": "3c5e71af-68f2-4bb7-b5b0-7e6bc63498fa",
   "metadata": {},
   "source": [
    "Install dependency\n"
   ]
  },
  {
   "cell_type": "code",
   "execution_count": 8,
   "id": "36fb161d-c775-4224-afb2-ad2a273ffb86",
   "metadata": {},
   "outputs": [
    {
     "name": "stdout",
     "output_type": "stream",
     "text": [
      "Requirement already satisfied: schedule in /opt/anaconda3/lib/python3.12/site-packages (1.2.2)\n"
     ]
    }
   ],
   "source": [
    "!pip install schedule\n"
   ]
  },
  {
   "cell_type": "code",
   "execution_count": 6,
   "id": "7643c01f-5213-4898-89b1-cc70ef528870",
   "metadata": {},
   "outputs": [],
   "source": [
    "import pandas as pd\n",
    "from sqlalchemy import create_engine\n",
    "import schedule\n",
    "import time\n",
    "import logging\n",
    "from tenacity import retry, stop_after_attempt, wait_exponential"
   ]
  },
  {
   "cell_type": "code",
   "execution_count": 11,
   "id": "7014e93d-0628-4dd9-a081-eb6ff48bc402",
   "metadata": {},
   "outputs": [],
   "source": [
    "# ----------------------\n",
    "logging.basicConfig(filename='etl_ar_log.log', level=logging.INFO,\n",
    "                    format='%(asctime)s:%(levelname)s:%(message)s')\n"
   ]
  },
  {
   "cell_type": "code",
   "execution_count": 57,
   "id": "94a80c5e-53d7-4123-b59f-4536057a3558",
   "metadata": {},
   "outputs": [],
   "source": [
    "def extract(file_path):\n",
    "    logging.info(\"Starting AR data extraction\")\n",
    "    cleaned_lines = []\n",
    "    skipped_lines = []\n",
    "\n",
    "    try:\n",
    "        with open(file_path, 'r', encoding='utf-8') as file:\n",
    "            for i, line in enumerate(file):\n",
    "                if line.count(',') < 6:  # crude check for malformed lines\n",
    "                    skipped_lines.append((i + 1, line.strip()))\n",
    "                else:\n",
    "                    cleaned_lines.append(line)\n",
    "    except UnicodeDecodeError:\n",
    "        with open(file_path, 'r', encoding='latin1') as file:\n",
    "            for i, line in enumerate(file):\n",
    "                if line.count(',') < 6:\n",
    "                    skipped_lines.append((i + 1, line.strip()))\n",
    "                else:\n",
    "                    cleaned_lines.append(line)\n",
    "\n",
    "    with open('cleaned_account_receivables.csv', 'w', encoding='utf-8') as clean_file:\n",
    "        clean_file.writelines(cleaned_lines)\n",
    "\n",
    "    if skipped_lines:\n",
    "        logging.warning(f\"Skipped {len(skipped_lines)} malformed lines during extraction.\")\n",
    "        with open('skipped_lines.log', 'w') as skipped_log:\n",
    "            for lineno, content in skipped_lines:\n",
    "                skipped_log.write(f\"Line {lineno}: {content}\\n\")\n",
    "\n",
    "    df = pd.read_csv('cleaned_account_receivables.csv', skiprows=1, header=0)\n",
    "    logging.info(f\"Extracted {len(df)} rows from AR data\")\n",
    "\n",
    "    expected_cols = ['invoice_id', 'customer_id', 'invoice_date', 'due_date', 'amount_due', 'currency', 'status']\n",
    "    if not all(col in df.columns for col in expected_cols):\n",
    "        raise ValueError(\"Missing required columns in AR data\")\n",
    "\n",
    "    return df"
   ]
  },
  {
   "cell_type": "code",
   "execution_count": 59,
   "id": "6aa60d3e-cb8d-45b2-a7de-79e59cdfdbb3",
   "metadata": {},
   "outputs": [],
   "source": [
    "def transform(df):\n",
    "    logging.info(\"Starting AR data transformation\")\n",
    "    try:\n",
    "        conversion_rates = {'EUR': 1.1, 'USD': 1.0}\n",
    "        df['amount_due'] = pd.to_numeric(df['amount_due'], errors='coerce')\n",
    "        df['amount_usd'] = df.apply(lambda row: row['amount_due'] * conversion_rates.get(row['currency'], 1.0), axis=1)\n",
    "\n",
    "        # Flag overdue invoices\n",
    "        df['invoice_date'] = pd.to_datetime(df['invoice_date'])\n",
    "        df['due_date'] = pd.to_datetime(df['due_date'])\n",
    "        df['is_overdue'] = df['due_date'] < pd.Timestamp.now()\n",
    "\n",
    "        if df.isnull().any().any():\n",
    "            logging.warning(\"Null values found in AR data\")\n",
    "\n",
    "        df.drop_duplicates(subset='invoice_id', inplace=True)\n",
    "        df.to_csv('checkpoint_ar_transformed.csv', index=False)\n",
    "\n",
    "        logging.info(\"AR data transformation complete\")\n",
    "        return df\n",
    "    except Exception as e:\n",
    "        logging.error(f\"Transformation failed: {e}\")\n",
    "        raise"
   ]
  },
  {
   "cell_type": "code",
   "execution_count": 61,
   "id": "a99b16de-ec57-4228-8382-784852bb60b0",
   "metadata": {},
   "outputs": [],
   "source": [
    "@retry(stop=stop_after_attempt(3), wait=wait_exponential(multiplier=1, min=2, max=10))\n",
    "def load(df, db_uri='sqlite:///account_receivables.db'):\n",
    "    logging.info(\"Starting AR data load\")\n",
    "    try:\n",
    "        engine = create_engine(db_uri)\n",
    "        df.to_sql('account_receivables', engine, index=False, if_exists='replace')\n",
    "        logging.info(\"AR data load successful\")\n",
    "    except Exception as e:\n",
    "        logging.error(f\"Load failed: {e}\")\n",
    "        raise"
   ]
  },
  {
   "cell_type": "code",
   "execution_count": 47,
   "id": "cb2a98e2-5f4c-410b-9190-75ec93b62515",
   "metadata": {},
   "outputs": [],
   "source": [
    "def etl_job():\n",
    "    logging.info(\"AR ETL job started\")\n",
    "    try:\n",
    "        df = extract('account_receivables.csv')\n",
    "        df_transformed = transform(df)\n",
    "        load(df_transformed)\n",
    "        logging.info(\"AR ETL job completed successfully\")\n",
    "    except Exception as e:\n",
    "        logging.error(f\"AR ETL job failed: {e}\")\n",
    "        # Optionally: Send alert/notification here\n"
   ]
  },
  {
   "cell_type": "code",
   "execution_count": 49,
   "id": "c9980398-d27c-41ad-aaf8-6eb1fdc5ef50",
   "metadata": {},
   "outputs": [
    {
     "name": "stdout",
     "output_type": "stream",
     "text": [
      "AR ETL Scheduler started. Waiting for scheduled time...\n"
     ]
    },
    {
     "ename": "KeyboardInterrupt",
     "evalue": "",
     "output_type": "error",
     "traceback": [
      "\u001b[0;31m---------------------------------------------------------------------------\u001b[0m",
      "\u001b[0;31mKeyboardInterrupt\u001b[0m                         Traceback (most recent call last)",
      "Cell \u001b[0;32mIn[49], line 9\u001b[0m\n\u001b[1;32m      7\u001b[0m \u001b[38;5;28;01mwhile\u001b[39;00m \u001b[38;5;28;01mTrue\u001b[39;00m:\n\u001b[1;32m      8\u001b[0m     schedule\u001b[38;5;241m.\u001b[39mrun_pending()\n\u001b[0;32m----> 9\u001b[0m     time\u001b[38;5;241m.\u001b[39msleep(\u001b[38;5;241m60\u001b[39m)\n",
      "\u001b[0;31mKeyboardInterrupt\u001b[0m: "
     ]
    }
   ],
   "source": [
    "# ----------------------\n",
    "# Schedule Daily Run\n",
    "# ----------------------\n",
    "schedule.every().day.at(\"18:30\").do(etl_job)\n",
    "\n",
    "print(\"AR ETL Scheduler started. Waiting for scheduled time...\")\n",
    "while True:\n",
    "    schedule.run_pending()\n",
    "    time.sleep(60)"
   ]
  },
  {
   "cell_type": "code",
   "execution_count": 63,
   "id": "6a938189-04a6-4cac-9a49-98b398a2da40",
   "metadata": {},
   "outputs": [],
   "source": [
    "etl_job()"
   ]
  },
  {
   "cell_type": "code",
   "execution_count": null,
   "id": "8a8cee80-a4e1-4cc0-ac10-1e6abe2007b8",
   "metadata": {},
   "outputs": [],
   "source": []
  }
 ],
 "metadata": {
  "kernelspec": {
   "display_name": "Python [conda env:base] *",
   "language": "python",
   "name": "conda-base-py"
  },
  "language_info": {
   "codemirror_mode": {
    "name": "ipython",
    "version": 3
   },
   "file_extension": ".py",
   "mimetype": "text/x-python",
   "name": "python",
   "nbconvert_exporter": "python",
   "pygments_lexer": "ipython3",
   "version": "3.12.7"
  }
 },
 "nbformat": 4,
 "nbformat_minor": 5
}
